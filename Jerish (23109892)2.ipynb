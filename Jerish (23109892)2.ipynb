import streamlit as st

import base64
import pandas as pd

st.title("Cloud computing assisted mobile health care system")

def add_bg_from_local(image_file):
    with open(image_file, "rb") as image_file:
        encoded_string = base64.b64encode(image_file.read())
    st.markdown(
    f"""
    <style>
    .stApp {{
        background-image: url(data:image/{"png"};base64,{encoded_string.decode()});
        background-size: cover
    }}
    </style>
    """,
    unsafe_allow_html=True
    )
add_bg_from_local('1.jpg') 

def main_page():
    st.markdown("# Welcome !!!")
    st.sidebar.markdown("# Welcome !!!")

def doctor():
    st.markdown("Doctor !!!")
    addhos=st.button("ADD HOSPITAL")
    if addhos:
        from tkinter.filedialog import askopenfilename
        filename=askopenfilename()
        dataframe=pd.read_csv(filename)

        dataframe.to_csv('new file.csv')

    checkkrep=st.button("CHECK REPORTS")    
    if checkkrep:
     st.sucess("REPORT CHECKED SUCCESFULLY !!!")
        
    
def organi():
    st.markdown("Organization !!!")

    #===================== IMPORT PACKAGES ==============================

    import pandas as pd
    from tkinter.filedialog import askopenfilename
    import warnings
    warnings.filterwarnings("ignore")
    from sklearn import naive_bayes
    import matplotlib.pyplot as plt
    
    #============================= DATA SELECTION ==============================
    
    #=== READ A INPUT ===
    
    dataframe=pd.read_csv("Dataset.csv")
    
    print()
    print("--------------------------------------")
    print("Input Data ")
    print("--------------------------------------")
    print()
    
    print(dataframe.head(20))


    #============================= DATA PREPROCESSING ==============================
    
    #=== CHECKING MISSING VALUES ====
    
    print("--------------------------------------")
    print("Checking Missing Values")
    print("--------------------------------------")
    print()
    print(dataframe.isnull().sum())
    
    
    #=========================== DATA SPLITTING ====================================
    
    # x1=dataframe.drop('Conditions',axis=1)
    x1=dataframe[['Diabetes_012','HighBP','HighChol','BMI','Smoker','Stroke','HeartDiseaseorAttack','Sex','Age']]
    y1=dataframe['Conditions']
    
    # === REPLACING ====
    
    y1=y1.replace(4, 3)
    y1=y1.replace(5, 2)
    y1=y1.replace(6, 1)
    y1=y1.replace(7, 3)
    y1=y1.replace(8, 2)
    
    from sklearn.model_selection import train_test_split 
    
    X_train, X_test, y_train, y_test = train_test_split(x1, y1, test_size=0.25, random_state=0)
    
    print("--------------------------------------")
    print("Data Splitting           ")
    print("--------------------------------------")
    print()
    
    print("Total no of data        :",dataframe.shape[0])
    print("Total no of test data   :",X_test.shape[0])
    print("Total no of train data  :",X_train.shape[0])
    
    
    #=========================== CLASSIFICATION ====================================
    
    # === RANDOM FOREST ===
    
    from sklearn.ensemble import RandomForestClassifier
    
    rf = RandomForestClassifier()
    
    rf.fit(X_train, y_train)  
    
    pred_rf=rf.predict(X_train)
    
    from sklearn import metrics
    
    cm_rf=metrics.confusion_matrix(y_train,pred_rf)
    
    TP=cm_rf[0][1]
    TN=cm_rf[0][1]
    FP=cm_rf[0][2]
    FN=cm_rf[1][0]
    
    Total=TP+TN+FP+FN
    
    acc_rf=(TP+TN)/Total *100
    
    print("-------------------------------------------------")
    print("Random Forest ---> Performance Analysis          ")
    print("-------------------------------------------------")
    print()
    
    print("1.Accuracy  =",acc_rf,'%')
    print()
    
    Pre_rf=TP/(TP+FP)*100
    
    Sen_rf=TP/(TP+FN)*100
    
    f1_rf=(2*Pre_rf*Sen_rf)/(Pre_rf+Sen_rf)
    
    print("2.Precision =",Pre_rf,'%')
    print()
    
    print("3.Recall    =",Sen_rf,'%')
    print()
    
    print("4.F1-Score  =",f1_rf,'%')
    print()
    
    
    import seaborn as sns
    sns.heatmap(cm_rf, annot=True)
    plt.title("Confusion matrix for RF")
    plt.show()


    # === SVM  ===
    
    
    from sklearn.svm import SVC
    
    lr = SVC()
    
    lr.fit(X_train, y_train)  
    
    pred_lr=lr.predict(X_train)
    
    from sklearn import metrics
    
    cm_lr=metrics.confusion_matrix(y_train,pred_lr)
    
    TP=cm_lr[0][1]
    TN=cm_lr[0][1]
    FP=cm_lr[0][2]
    FN=cm_lr[1][0]
    
    Total=TP+TN+FP+FN
    
    acc_lr=(TP+TN)/Total *100
    
    Pre_lr=TP/(TP+FP)*100
    
    Sen_lr=TP/(TP+FN)*100
    
    f1_lr=(2*Pre_lr*Sen_lr)/(Pre_lr+Sen_lr)
    
    print("-------------------------------------------------")
    print("Support Vector Machine ---> Performance Analysis    ")
    print("-------------------------------------------------")
    print()
    
    print("1.Accuracy  =",acc_lr,'%')
    print()
    
    print("2.Precision =",Pre_lr,'%')
    print()
    
    print("3.Recall    =",Sen_lr,'%')
    print()
    
    print("4.F1-Score  =",f1_lr,'%')
    print()
    
    import seaborn as sns
    sns.heatmap(cm_lr, annot=True)
    plt.title("Confusion matrix for SVR")
    plt.show()
  
# ---------- CNN

    print("---------------------------------------------")
    print("Convolutional Neural Network (CNN – 1D)      ")
    print("---------------------------------------------")
    print()

    from keras.models import Model
    from keras.layers import Conv1D, MaxPool1D, Flatten, Input, Dense
    
    inp = Input(shape=(9, 1))
    conv = Conv1D(filters=2, kernel_size=2)(inp)
    pool = MaxPool1D(pool_size=2)(conv)
    flat = Flatten()(pool)
    dense = Dense(1)(flat)
    model = Model(inp, dense)  # Corrected line
    model.compile(loss='binary_crossentropy', optimizer='adam')  # Corrected line
    model.summary()

    print("--------------------------------------------------")

    history = model.fit(X_train, y_train, epochs=5, batch_size=15, verbose=1, validation_split=0.2)

    loss = max(history.history['loss'])

    acc_cnn = 100 - loss

    print("1) Accuracy   = ", acc_cnn, '%')
    print()
    print("2) Error Rate = ", loss)
    print()
        
  
    
    username=st.text_input("Enter User Name ")
    diabe=st.text_input("Enter Diabetics ")
    bp=st.text_input("Enter Blood Pressure ")
    chol=st.text_input("Enter Cholorestrol ")
    bmi=st.text_input("Enter BMI ")
    smoker=st.text_input("Enter Smoker ")
    stroke=st.text_input("Enter Stroke ")
    heart=st.text_input("Enter Heart Disease ")
    age=st.text_input("Enter Age ")
    sex=st.text_input("Enter Sex ")

    Data_reg=[diabe,bp,chol,bmi,smoker,stroke,heart,age,sex]

    with open(str(username)+'.txt', 'w+') as f:
         
        # write elements of list
        for items in Data_reg:
            f.write('%s\n' %items)



    import numpy as np 
    
    input_1 = np.array([diabe,bp,chol,bmi,smoker,stroke,heart,age,sex].reshape(1, -1))
    
    predicted_data = lr.predict(input_1)
    
    
    
    
    
    
    st.text("PREDICTION")

    if predicted_data==1:
        print("----------------------------")
        print()
        print("Human Health = POOR")
        st.text("Human Health = POOR")
    elif predicted_data==2:
        print("----------------------------")
        print()
        print("Human Health = MEDIUM")      
        st.text("Human Health = MEDIUM")

    else:
        print("----------------------------")
        print()
        print("Human Health = GOOD")    

        st.text("Human Health = GOOD")

def pat():
    
    file_up = st.file_uploader("Upload an File", type=["txt"])
    
    if file_up==None:
        st.text("Upload File")
    else:
        st.success("Uploaded Successfully")



page_names_to_funcs = {
    "Main Page": main_page,
    "Doctor Page":doctor,
    "Organization Page":organi,
    "Patient Page":pat,

}

selected_page = st.sidebar.selectbox("Select a page", page_names_to_funcs.keys())
page_names_to_funcs[selected_page]()

